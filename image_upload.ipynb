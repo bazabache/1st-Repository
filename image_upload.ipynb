{
 "cells": [
  {
   "cell_type": "code",
   "execution_count": 1,
   "metadata": {},
   "outputs": [
    {
     "name": "stdout",
     "output_type": "stream",
     "text": [
      "Collecting azure-cognitiveservices-vision-customvision\n",
      "  Downloading azure_cognitiveservices_vision_customvision-3.1.0-py2.py3-none-any.whl (62 kB)\n",
      "Collecting sklearn\n",
      "  Downloading sklearn-0.0.tar.gz (1.1 kB)\n",
      "Collecting scikit-image\n",
      "  Downloading scikit_image-0.19.2-cp310-cp310-win_amd64.whl (12.6 MB)\n",
      "Collecting azure-common~=1.1\n",
      "  Downloading azure_common-1.1.28-py2.py3-none-any.whl (14 kB)\n",
      "Collecting msrest>=0.5.0\n",
      "  Downloading msrest-0.6.21-py2.py3-none-any.whl (85 kB)\n",
      "Collecting scikit-learn\n",
      "  Downloading scikit_learn-1.0.2-cp310-cp310-win_amd64.whl (7.2 MB)\n",
      "Collecting PyWavelets>=1.1.1\n",
      "  Downloading PyWavelets-1.3.0-cp310-cp310-win_amd64.whl (4.2 MB)\n",
      "Requirement already satisfied: packaging>=20.0 in c:\\users\\bazab\\miniconda3\\envs\\mse544cvpy310\\lib\\site-packages (from scikit-image) (21.3)\n",
      "Collecting scipy>=1.4.1\n",
      "  Downloading scipy-1.8.0-cp310-cp310-win_amd64.whl (37.0 MB)\n",
      "Collecting tifffile>=2019.7.26\n",
      "  Downloading tifffile-2022.5.4-py3-none-any.whl (195 kB)\n",
      "Collecting networkx>=2.2\n",
      "  Downloading networkx-2.8-py3-none-any.whl (2.0 MB)\n",
      "Collecting pillow!=7.1.0,!=7.1.1,!=8.3.0,>=6.1.0\n",
      "  Downloading Pillow-9.1.0-cp310-cp310-win_amd64.whl (3.3 MB)\n",
      "Collecting imageio>=2.4.1\n",
      "  Downloading imageio-2.19.1-py3-none-any.whl (3.4 MB)\n",
      "Collecting numpy>=1.17.0\n",
      "  Downloading numpy-1.22.3-cp310-cp310-win_amd64.whl (14.7 MB)\n",
      "Collecting isodate>=0.6.0\n",
      "  Downloading isodate-0.6.1-py2.py3-none-any.whl (41 kB)\n",
      "Collecting requests-oauthlib>=0.5.0\n",
      "  Downloading requests_oauthlib-1.3.1-py2.py3-none-any.whl (23 kB)\n",
      "Requirement already satisfied: certifi>=2017.4.17 in c:\\users\\bazab\\miniconda3\\envs\\mse544cvpy310\\lib\\site-packages (from msrest>=0.5.0->azure-cognitiveservices-vision-customvision) (2021.10.8)\n",
      "Collecting requests~=2.16\n",
      "  Using cached requests-2.27.1-py2.py3-none-any.whl (63 kB)\n",
      "Requirement already satisfied: six in c:\\users\\bazab\\miniconda3\\envs\\mse544cvpy310\\lib\\site-packages (from isodate>=0.6.0->msrest>=0.5.0->azure-cognitiveservices-vision-customvision) (1.16.0)\n",
      "Requirement already satisfied: pyparsing!=3.0.5,>=2.0.2 in c:\\users\\bazab\\miniconda3\\envs\\mse544cvpy310\\lib\\site-packages (from packaging>=20.0->scikit-image) (3.0.8)\n",
      "Collecting charset-normalizer~=2.0.0\n",
      "  Using cached charset_normalizer-2.0.12-py3-none-any.whl (39 kB)\n",
      "Collecting urllib3<1.27,>=1.21.1\n",
      "  Using cached urllib3-1.26.9-py2.py3-none-any.whl (138 kB)\n",
      "Collecting idna<4,>=2.5\n",
      "  Using cached idna-3.3-py3-none-any.whl (61 kB)\n",
      "Collecting oauthlib>=3.0.0\n",
      "  Downloading oauthlib-3.2.0-py3-none-any.whl (151 kB)\n",
      "Collecting threadpoolctl>=2.0.0\n",
      "  Downloading threadpoolctl-3.1.0-py3-none-any.whl (14 kB)\n",
      "Collecting joblib>=0.11\n",
      "  Downloading joblib-1.1.0-py2.py3-none-any.whl (306 kB)\n",
      "Building wheels for collected packages: sklearn\n",
      "  Building wheel for sklearn (setup.py): started\n",
      "  Building wheel for sklearn (setup.py): finished with status 'done'\n",
      "  Created wheel for sklearn: filename=sklearn-0.0-py2.py3-none-any.whl size=1310 sha256=d7ecb652f0d6a6fa5b9bc1e96ec435dd8481371f693885f84bd922d85c57af3e\n",
      "  Stored in directory: c:\\users\\bazab\\appdata\\local\\pip\\cache\\wheels\\9b\\13\\01\\6f3a7fd641f90e1f6c8c7cded057f3394f451f340371c68f3d\n",
      "Successfully built sklearn\n",
      "Installing collected packages: urllib3, idna, charset-normalizer, requests, oauthlib, numpy, threadpoolctl, scipy, requests-oauthlib, pillow, joblib, isodate, tifffile, scikit-learn, PyWavelets, networkx, msrest, imageio, azure-common, sklearn, scikit-image, azure-cognitiveservices-vision-customvision\n",
      "Successfully installed PyWavelets-1.3.0 azure-cognitiveservices-vision-customvision-3.1.0 azure-common-1.1.28 charset-normalizer-2.0.12 idna-3.3 imageio-2.19.1 isodate-0.6.1 joblib-1.1.0 msrest-0.6.21 networkx-2.8 numpy-1.22.3 oauthlib-3.2.0 pillow-9.1.0 requests-2.27.1 requests-oauthlib-1.3.1 scikit-image-0.19.2 scikit-learn-1.0.2 scipy-1.8.0 sklearn-0.0 threadpoolctl-3.1.0 tifffile-2022.5.4 urllib3-1.26.9\n",
      "Note: you may need to restart the kernel to use updated packages.\n"
     ]
    }
   ],
   "source": [
    "%pip install azure-cognitiveservices-vision-customvision sklearn scikit-image"
   ]
  },
  {
   "cell_type": "code",
   "execution_count": 1,
   "metadata": {},
   "outputs": [],
   "source": [
    " import os\n",
    " from util import labeledImage\n",
    " from azureapi import AzureCVObjectDetectionAPI\n",
    " from sklearn.model_selection import train_test_split"
   ]
  },
  {
   "cell_type": "code",
   "execution_count": 2,
   "metadata": {},
   "outputs": [],
   "source": [
    " molecules_dir = './molecules/'\n",
    " labels_dir = './molecules/labels/'\n",
    "\n",
    " labeled_images = []\n",
    " tag = 'molecule'\n",
    "\n",
    " for file in os.listdir(molecules_dir):\n",
    "     if file.endswith(\".jpeg\"):\n",
    "         image_path = os.path.join(molecules_dir, file)\n",
    "         label_path = os.path.join(labels_dir, file.split('.')[0] + '.txt')\n",
    "         labeled_images.append(labeledImage(image_path))\n",
    "         labeled_images[-1].add_labels_from_file(tag, label_path)"
   ]
  },
  {
   "cell_type": "code",
   "execution_count": 3,
   "metadata": {},
   "outputs": [
    {
     "name": "stdout",
     "output_type": "stream",
     "text": [
      "Labeled image am-2014-02795y_0008.jpeg\n",
      "    location: ./molecules/am-2014-02795y_0008.jpeg\n",
      "    shape: (2678, 6048)\n",
      "    labels:\n",
      "    - molecule: \n",
      "      [0, 0, 1492, 1176]\n",
      "      [1768, 212, 1332, 976]\n",
      "      [4068, 24, 1980, 1256]\n",
      "      [0, 1496, 1504, 1172]\n",
      "      [1788, 1684, 1296, 976]\n",
      "      [4136, 1412, 1912, 1256]\n",
      "\n"
     ]
    }
   ],
   "source": [
    " print(labeled_images[0])"
   ]
  },
  {
   "cell_type": "code",
   "execution_count": 4,
   "metadata": {},
   "outputs": [],
   "source": [
    " train_images, test_images = train_test_split(labeled_images, test_size=0.2, random_state=42)"
   ]
  },
  {
   "cell_type": "code",
   "execution_count": 5,
   "metadata": {},
   "outputs": [],
   "source": [
    " Endpoint    = 'https://westus2.api.cognitive.microsoft.com/'\n",
    " Key         = 'ff953c98e71a4ed5accee3dbbf698b5a'\n",
    " Resource_Id = '/subscriptions/edf4ef8f-68cc-4a10-9dd5-821829ccba45/resourceGroups/rg-amlclass-bazaba/providers/Microsoft.CognitiveServices/accounts/cv_bazaba'\n",
    " Project_Id  = '0904b25f-0d6a-4a15-b0fb-00ae5b190b61'\n",
    "\n",
    " ACVObjectDetector = AzureCVObjectDetectionAPI(Endpoint, Key, Resource_Id, Project_Id)"
   ]
  },
  {
   "cell_type": "code",
   "execution_count": 6,
   "metadata": {},
   "outputs": [
    {
     "name": "stdout",
     "output_type": "stream",
     "text": [
      "Adding images...\n",
      "Adding images: batch  1\n",
      "Image batch upload failed.\n",
      "Image status:  OK\n",
      "Image status:  OK\n",
      "Image status:  OK\n",
      "Image status:  OK\n",
      "Image status:  OK\n",
      "Image status:  OK\n",
      "Image status:  OK\n",
      "Image status:  OK\n",
      "Image status:  OK\n",
      "Image status:  OK\n",
      "Image status:  ErrorInvalidRegion\n",
      "Image status:  OK\n",
      "Image status:  OK\n",
      "Image status:  OK\n",
      "Image status:  OK\n",
      "Image status:  OK\n",
      "Image status:  OK\n",
      "Image status:  OK\n",
      "Image status:  OK\n",
      "Image status:  OK\n",
      "Image status:  OK\n",
      "Image status:  OK\n",
      "Image status:  OK\n",
      "Image status:  OK\n",
      "Image status:  OK\n",
      "Image status:  OK\n",
      "Image status:  OK\n",
      "Image status:  OK\n",
      "Image status:  OK\n",
      "Image status:  OK\n",
      "Image status:  OK\n",
      "Image status:  OK\n",
      "Image status:  OK\n",
      "Image status:  OK\n",
      "Image status:  OK\n",
      "Image status:  OK\n",
      "Image status:  OK\n",
      "Image status:  OK\n",
      "Image status:  OK\n",
      "Image status:  OK\n"
     ]
    }
   ],
   "source": [
    " ACVObjectDetector.upload_training_images(train_images)"
   ]
  },
  {
   "cell_type": "code",
   "execution_count": 7,
   "metadata": {},
   "outputs": [
    {
     "name": "stdout",
     "output_type": "stream",
     "text": [
      "cm-2015-01520c_0001.jpeg\n",
      "ma-2012-01312d_0001.jpeg\n",
      "ja-2011-10687r_0014.jpeg\n",
      "ma-2014-00250j_0009.jpeg\n",
      "cm-2015-032569_0005.jpeg\n",
      "ma-2014-01736m_0009.jpeg\n",
      "ja-2011-01131h_0003.jpeg\n",
      "ja-2009-09111p_0004.jpeg\n",
      "ja-2013-04064m_0005.jpeg\n",
      "cm-2015-032569_0007.jpeg\n"
     ]
    }
   ],
   "source": [
    " for image in test_images: print(image.name)"
   ]
  },
  {
   "cell_type": "code",
   "execution_count": null,
   "metadata": {},
   "outputs": [],
   "source": []
  },
  {
   "cell_type": "code",
   "execution_count": null,
   "metadata": {},
   "outputs": [],
   "source": []
  }
 ],
 "metadata": {
  "interpreter": {
   "hash": "165c538d86f1f74d2fa0c64a69c52878a9b9d3f74220d60cc36aa57c6820640d"
  },
  "kernelspec": {
   "display_name": "Python 3.10.4",
   "language": "python",
   "name": "python3"
  },
  "language_info": {
   "codemirror_mode": {
    "name": "ipython",
    "version": 3
   },
   "file_extension": ".py",
   "mimetype": "text/x-python",
   "name": "python",
   "nbconvert_exporter": "python",
   "pygments_lexer": "ipython3",
   "version": "3.10.4"
  },
  "orig_nbformat": 4
 },
 "nbformat": 4,
 "nbformat_minor": 2
}
